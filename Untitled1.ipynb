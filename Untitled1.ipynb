{
  "nbformat": 4,
  "nbformat_minor": 0,
  "metadata": {
    "colab": {
      "provenance": [],
      "authorship_tag": "ABX9TyMbVzwi4d+gTuX8kwQTZnks",
      "include_colab_link": true
    },
    "kernelspec": {
      "name": "ir",
      "display_name": "R"
    },
    "language_info": {
      "name": "R"
    }
  },
  "cells": [
    {
      "cell_type": "markdown",
      "metadata": {
        "id": "view-in-github",
        "colab_type": "text"
      },
      "source": [
        "<a href=\"https://colab.research.google.com/github/Starias22/GitTraining/blob/main/Untitled1.ipynb\" target=\"_parent\"><img src=\"https://colab.research.google.com/assets/colab-badge.svg\" alt=\"Open In Colab\"/></a>"
      ]
    },
    {
      "cell_type": "code",
      "execution_count": null,
      "metadata": {
        "colab": {
          "base_uri": "https://localhost:8080/",
          "height": 52
        },
        "id": "q2MkUvmjxSR4",
        "outputId": "531c88c7-112d-4832-e816-611db42ea9c9"
      },
      "outputs": [
        {
          "output_type": "stream",
          "name": "stdout",
          "text": [
            "[1] \"Hello\"\n"
          ]
        },
        {
          "output_type": "display_data",
          "data": {
            "text/html": [
              "'numeric'"
            ],
            "text/markdown": "'numeric'",
            "text/latex": "'numeric'",
            "text/plain": [
              "[1] \"numeric\""
            ]
          },
          "metadata": {}
        }
      ],
      "source": [
        "print(\"Hello\")\n",
        "class(2)"
      ]
    }
  ]
}